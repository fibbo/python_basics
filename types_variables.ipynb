{
 "cells": [
  {
   "cell_type": "markdown",
   "metadata": {},
   "source": [
    "## Types, Variables, Expressions, Operators, Comments\n",
    "\n",
    "### Types\n",
    "\n",
    "One of the most important things to understand is the type of a variable. Python is a dynamically typed language, which means that the type of a variable can change during execution.\n",
    "\n",
    "It's important to understand the types, even more so since the types are not explicitly defined.\n",
    "\n",
    "#### Different Basic Types"
   ]
  },
  {
   "cell_type": "code",
   "execution_count": 5,
   "metadata": {},
   "outputs": [
    {
     "data": {
      "text/plain": [
       "4j"
      ]
     },
     "execution_count": 5,
     "metadata": {},
     "output_type": "execute_result"
    }
   ],
   "source": [
    "# Number types\n",
    "\n",
    "# Integers\n",
    "1\n",
    "-0\n",
    "1023\n",
    "\n",
    "# Float\n",
    "1.23\n",
    "3.0\n",
    "\n",
    "# Complex\n",
    "4j"
   ]
  },
  {
   "cell_type": "code",
   "execution_count": 6,
   "metadata": {},
   "outputs": [
    {
     "data": {
      "text/plain": [
       "'Hello World'"
      ]
     },
     "execution_count": 6,
     "metadata": {},
     "output_type": "execute_result"
    }
   ],
   "source": [
    "# Strings - Single or double quotes are allowed\n",
    "\"Hello World\"\n",
    "\n",
    "'Hello World'"
   ]
  },
  {
   "cell_type": "code",
   "execution_count": 7,
   "metadata": {},
   "outputs": [],
   "source": [
    "# Boolean"
   ]
  }
 ],
 "metadata": {
  "kernelspec": {
   "display_name": "3.13.0",
   "language": "python",
   "name": "python3"
  },
  "language_info": {
   "codemirror_mode": {
    "name": "ipython",
    "version": 3
   },
   "file_extension": ".py",
   "mimetype": "text/x-python",
   "name": "python",
   "nbconvert_exporter": "python",
   "pygments_lexer": "ipython3",
   "version": "3.13.0"
  }
 },
 "nbformat": 4,
 "nbformat_minor": 2
}
